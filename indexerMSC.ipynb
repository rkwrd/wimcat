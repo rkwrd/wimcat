{
 "cells": [
  {
   "cell_type": "code",
   "execution_count": 59,
   "metadata": {},
   "outputs": [
    {
     "ename": "IndentationError",
     "evalue": "expected an indented block (msc.py, line 17)",
     "output_type": "error",
     "traceback": [
      "\u001b[0;36m  File \u001b[0;32m\"indexers/msc.py\"\u001b[0;36m, line \u001b[0;32m17\u001b[0m\n\u001b[0;31m    except Exception:\u001b[0m\n\u001b[0m         ^\u001b[0m\n\u001b[0;31mIndentationError\u001b[0m\u001b[0;31m:\u001b[0m expected an indented block\n"
     ]
    }
   ],
   "source": [
    "import logging\n",
    "from selenium import webdriver\n",
    "from selenium.webdriver.common.keys import Keys\n",
    "import time\n",
    "from indexers import msc\n",
    "\n",
    "logger = logging.getLogger('indexing')\n",
    "hdlr = logging.FileHandler('/var/tmp/wimcat.log')\n",
    "formatter = logging.Formatter('%(asctime)s %(levelname)s %(message)s')\n",
    "hdlr.setFormatter(formatter)\n",
    "logger.addHandler(hdlr) \n",
    "logger.setLevel(logging.WARNING)\n",
    "\n",
    "\n"
   ]
  },
  {
   "cell_type": "code",
   "execution_count": 60,
   "metadata": {
    "collapsed": true
   },
   "outputs": [],
   "source": [
    "def indexerMSC(containerID, driver, logger):\n",
    "    transforms = {\n",
    "        \"date\" : [],\n",
    "        \"status\" : [],\n",
    "        \"location\" : [],\n",
    "        \"transport\" : [],\n",
    "        \"voyage\" : []        \n",
    "    }\n",
    "    \n",
    "    def try_element_by_xpath(webelement, xpath):\n",
    "        try:\n",
    "            result = webelement.find_element_by_xpath(xpath)\n",
    "            return result.text\n",
    "        except:\n",
    "            return \"\"\n",
    "\n",
    "    xpaths = {\n",
    "        'status' : './/td[2]/span',\n",
    "        'date' : './/td[3]/span',\n",
    "        'location' : './/td[1]/span',\n",
    "        'transport' : './/td[4]/span',\n",
    "        'voyage' : './/td[5]/span',\n",
    "        }\n",
    "    row_xp = '//*[@id=\"ctl00_ctl00_plcMain_plcMain_rptBOL_ctl00_rptContainers_ctl01_pnlContainer\"]/table[2]/tbody/tr[*]'\n",
    "    url = 'https://www.msc.com/track-a-shipment?agencyPath=deu'\n",
    "    input_xpath = '//*[@id=\"ctl00_ctl00_plcMain_plcMain_TrackSearch_txtBolSearch_TextField\"]'\n",
    "\n",
    "    try:\n",
    "        driver.get(url)\n",
    "        elem = driver.find_element_by_xpath(input_xpath)\n",
    "        elem.clear()\n",
    "        elem.send_keys(containerID)\n",
    "        elem.send_keys(Keys.RETURN)\n",
    "        rows = driver.find_elements_by_xpath(row_xp)\n",
    "    except Exception as e:\n",
    "        print \"> Error: {}\".format(e)\n",
    "        return [], False\n",
    "    events = []\n",
    "\n",
    "    for ro in rows:\n",
    "        events.append({fi:try_element_by_xpath(ro, xpaths[fi]) for fi in xpaths.keys()})\n",
    "    return events, True\n",
    "    \n",
    "    \n",
    "    "
   ]
  },
  {
   "cell_type": "code",
   "execution_count": 61,
   "metadata": {
    "collapsed": true
   },
   "outputs": [],
   "source": [
    "driver = webdriver.Chrome()\n",
    "t = indexerMSC(\"MSCU6713026\", driver, logger)"
   ]
  },
  {
   "cell_type": "code",
   "execution_count": 62,
   "metadata": {},
   "outputs": [
    {
     "data": {
      "text/plain": [
       "([{'date': u'02/11/2017',\n",
       "   'location': u'COLOMBO, 11, LK',\n",
       "   'status': u'Estimated Time of Arrival',\n",
       "   'transport': u'MSC SOLA',\n",
       "   'voyage': u' '},\n",
       "  {'date': u'07/10/2017',\n",
       "   'location': u'HAMBURG, HH, DE',\n",
       "   'status': u'Loaded',\n",
       "   'transport': u'MSC SOLA',\n",
       "   'voyage': u'IS740A'},\n",
       "  {'date': u'05/10/2017',\n",
       "   'location': u'HAMBURG, HH, DE',\n",
       "   'status': u'Unloaded From Truck',\n",
       "   'transport': u' ',\n",
       "   'voyage': u' '},\n",
       "  {'date': u'05/10/2017',\n",
       "   'location': u'BAD SALZUFLEN, NW, DE',\n",
       "   'status': u'Empty to Shipper',\n",
       "   'transport': u' ',\n",
       "   'voyage': u' '},\n",
       "  {'date': u'05/10/2017',\n",
       "   'location': u'BAD SALZUFLEN, NW, DE',\n",
       "   'status': u'Empty to Shipper',\n",
       "   'transport': u' ',\n",
       "   'voyage': u' '}],\n",
       " True)"
      ]
     },
     "execution_count": 62,
     "metadata": {},
     "output_type": "execute_result"
    }
   ],
   "source": [
    "t"
   ]
  },
  {
   "cell_type": "code",
   "execution_count": 53,
   "metadata": {
    "collapsed": true
   },
   "outputs": [],
   "source": [
    "def toASCII(val):\n",
    "    return \"a:{}\".format(val)\n",
    "    \n",
    "def dates_slash_dot(val):\n",
    "    return val.replace(\"/\", \".\")\n",
    "\n",
    "def dates_YY_YYYY(val):\n",
    "    return \"haha, {}\".format(val)\n",
    "    \n",
    "\n",
    "transforms = {\n",
    "    \"date\" : [dates_slash_dot, dates_YY_YYYY],\n",
    "    \"status\" : [b, c, c]\n",
    "}\n"
   ]
  },
  {
   "cell_type": "code",
   "execution_count": 48,
   "metadata": {},
   "outputs": [
    {
     "data": {
      "text/plain": [
       "'a:blub'"
      ]
     },
     "execution_count": 48,
     "metadata": {},
     "output_type": "execute_result"
    }
   ],
   "source": [
    "q = transforms[\"date\"][0](\"blub\")\n",
    "q"
   ]
  },
  {
   "cell_type": "code",
   "execution_count": 54,
   "metadata": {},
   "outputs": [
    {
     "name": "stdout",
     "output_type": "stream",
     "text": [
      "haha, 25.13.1999\n"
     ]
    }
   ],
   "source": [
    "q = \"25/13/1999\"\n",
    "for func in transforms[\"date\"]:\n",
    "    q = func(q)\n",
    "print q"
   ]
  },
  {
   "cell_type": "code",
   "execution_count": 57,
   "metadata": {},
   "outputs": [
    {
     "name": "stdout",
     "output_type": "stream",
     "text": [
      "date\n",
      "status\n"
     ]
    }
   ],
   "source": [
    "for k in transforms.iterkeys():\n",
    "    print k"
   ]
  },
  {
   "cell_type": "code",
   "execution_count": null,
   "metadata": {
    "collapsed": true
   },
   "outputs": [],
   "source": []
  }
 ],
 "metadata": {
  "kernelspec": {
   "display_name": "Python 2",
   "language": "python",
   "name": "python2"
  },
  "language_info": {
   "codemirror_mode": {
    "name": "ipython",
    "version": 2
   },
   "file_extension": ".py",
   "mimetype": "text/x-python",
   "name": "python",
   "nbconvert_exporter": "python",
   "pygments_lexer": "ipython2",
   "version": "2.7.11"
  }
 },
 "nbformat": 4,
 "nbformat_minor": 2
}
